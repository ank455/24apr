{
 "cells": [
  {
   "cell_type": "code",
   "execution_count": null,
   "id": "c481276c-a324-48ed-b4da-38e52f086a8e",
   "metadata": {},
   "outputs": [],
   "source": [
    "#Ans 1 \n",
    "A projection refers to the transformation of data points from their original high-dimensional space into a lower-dimensional space. \n",
    "\n",
    "Use of projection in pca :\n",
    "(1) Centering the data\n",
    "(2) Covariance Matrix\n",
    "(3) Eigenvalue Decomposition\n",
    "(4) Selecting Principle Components\n",
    "(5) Projection\n",
    "(6) Construction"
   ]
  },
  {
   "cell_type": "code",
   "execution_count": null,
   "id": "c787ecdf-101d-46a2-969e-906e5f96dedc",
   "metadata": {},
   "outputs": [],
   "source": [
    "#Ans 2\n",
    "The optimization problem in PCA is at the heart of the dimensionality reduction technique.\n",
    "\n",
    "PCA aims to achieve two primary objectives through this optimization problem :\n",
    "(1)Maximize Variance\n",
    "(2)Minimize Reconstruction Error "
   ]
  },
  {
   "cell_type": "code",
   "execution_count": null,
   "id": "08e8b2a0-8820-4fc1-acf8-b7ea1e57970c",
   "metadata": {},
   "outputs": [],
   "source": [
    "#Ans 3\n",
    "The Relationship between covariance matrices and pca is fundamental as the covariance matrix plays a central role in pca. "
   ]
  },
  {
   "cell_type": "code",
   "execution_count": null,
   "id": "d1d59745-4ac0-4406-9b39-3ecfc82236a8",
   "metadata": {},
   "outputs": [],
   "source": [
    "#Ans 4\n",
    "The choice of the number of principal components in PCA has a significant impact on the performance and effectiveness of PCA for various tasks. It influences the trade-off between dimensionality reduction and information retention.\n",
    "\n",
    "Here how the choice of the number of principal components impacts PCA performance:\n",
    "(1) Explained Variance \n",
    "(2) Dimensionality Reduction\n",
    "(3) Overfitting vs Underfitting\n",
    "(4) Interpretability\n",
    "(5) Computationa; Efficiency\n",
    "(6) Task Specific Considerations\n",
    "\n"
   ]
  },
  {
   "cell_type": "code",
   "execution_count": null,
   "id": "a958ba4c-8a77-464b-af02-1742a0a4eaca",
   "metadata": {},
   "outputs": [],
   "source": [
    "#Ans 5\n",
    "PCA can be used as a feature selection technique to reduce the dimensionality of a dataset by selecting a subset of its principal components while retaining most of the variance in the data.\n",
    "\n",
    "Here how PCA can be applied for feature selection and the benefits of using it for this purpose:\n",
    "(1) Dimensionality Reduction\n",
    "(2) Information Retention\n",
    "(3) Noise Reduction\n",
    "(4) Simplified Modeling\n",
    "(5) Multicollinearity Handling\n",
    "(6) Visualization\n",
    "(7) Improved Generalization\n",
    "(8) Model Complexity Control"
   ]
  },
  {
   "cell_type": "code",
   "execution_count": null,
   "id": "b25ea011-0701-4bae-8498-59b099dfb3db",
   "metadata": {},
   "outputs": [],
   "source": [
    "#Ans 6\n",
    "(1) Dimensionality Reduction\n",
    "(2) Data Visualization\n",
    "(3) Noise Reduction\n",
    "(4) Feature Engineering\n",
    "(5) Multicollinearity Handling\n",
    "(6) Face Recogination\n",
    "(7) Image Compression\n",
    "(8) Spectral Analysis\n",
    "(9) Quality Control\n",
    "(10) Gene Expression Analysis\n",
    "(11) Market Research and Customer Segmentation\n",
    "(12) NLP\n",
    "(13) Anomaly Detection\n",
    "(14) Recommendation Systems\n",
    "(15) Chemometrics"
   ]
  },
  {
   "cell_type": "code",
   "execution_count": null,
   "id": "a8350be4-1a14-421f-a229-e1997465ecbe",
   "metadata": {},
   "outputs": [],
   "source": [
    "#Ans 7\n",
    "The spread of data and variance are closely related concepts. PCA aims to maximize the spread of data along its principal components, and variance is a key measure used to quantify this spread."
   ]
  },
  {
   "cell_type": "code",
   "execution_count": null,
   "id": "965d62cb-af97-4759-b3d5-d9b055c74026",
   "metadata": {},
   "outputs": [],
   "source": [
    "#Ans 8\n",
    "\n",
    "Principal Component Analysis uses the spread and variance of the data to identify principal components by finding the directions in the original feature space that maximize the spread or variance of the projected data. "
   ]
  },
  {
   "cell_type": "code",
   "execution_count": null,
   "id": "4b068716-d8df-43d2-8ac3-bbe20b96b3e7",
   "metadata": {},
   "outputs": [],
   "source": [
    "#Ans 9\n",
    "PCA handles data with high variance in some dimensions and low variance in others by identifying and emphasizing the directions (principal components) in the data space that capture the highest variance"
   ]
  }
 ],
 "metadata": {
  "kernelspec": {
   "display_name": "Python 3 (ipykernel)",
   "language": "python",
   "name": "python3"
  },
  "language_info": {
   "codemirror_mode": {
    "name": "ipython",
    "version": 3
   },
   "file_extension": ".py",
   "mimetype": "text/x-python",
   "name": "python",
   "nbconvert_exporter": "python",
   "pygments_lexer": "ipython3",
   "version": "3.10.8"
  }
 },
 "nbformat": 4,
 "nbformat_minor": 5
}
